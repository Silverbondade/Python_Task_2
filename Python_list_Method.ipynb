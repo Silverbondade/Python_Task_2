{
 "cells": [
  {
   "cell_type": "markdown",
   "id": "d95ea499-4d8a-494d-83e7-a22495e44e19",
   "metadata": {},
   "source": [
    "**Python List append() Method - Add an element to the list**\r\n",
    "\r\n"
   ]
  },
  {
   "cell_type": "code",
   "execution_count": 1,
   "id": "be5f158a-c3d9-4aa6-b4e4-0be259528c73",
   "metadata": {},
   "outputs": [
    {
     "name": "stdout",
     "output_type": "stream",
     "text": [
      "['death note', 'naruto', 'dragon ball', 'one piece']\n"
     ]
    }
   ],
   "source": [
    "Anime = ['death note', 'naruto', 'dragon ball']\n",
    "Anime.append(\"one piece\")\n",
    "print(Anime)"
   ]
  },
  {
   "cell_type": "markdown",
   "id": "39e6cd6d-a5fb-46cd-b247-54e12296305a",
   "metadata": {},
   "source": [
    "**Python List clear() Method - Remove all elements from the list**"
   ]
  },
  {
   "cell_type": "code",
   "execution_count": 19,
   "id": "ec1e3e5b-5c97-461f-894e-6bc6ceba2d74",
   "metadata": {},
   "outputs": [
    {
     "name": "stdout",
     "output_type": "stream",
     "text": [
      "[]\n"
     ]
    }
   ],
   "source": [
    "Cartoon = ['shinchan', 'doremoan', 'kiteretsu', 'pokemon']\n",
    "Cartoon.clear()\n",
    "print(Cartoon)"
   ]
  },
  {
   "cell_type": "markdown",
   "id": "f745dc20-d524-4366-b05c-d73712a0be11",
   "metadata": {},
   "source": [
    "**Python List copy() Method -  -Returns a copy of the li**t\r\n"
   ]
  },
  {
   "cell_type": "code",
   "execution_count": 15,
   "id": "73d98609-c5da-4d3b-94eb-336fa9814037",
   "metadata": {},
   "outputs": [
    {
     "name": "stdout",
     "output_type": "stream",
     "text": [
      "['pop', 'rock', 'jazz', 'classical']\n"
     ]
    }
   ],
   "source": [
    "Music = ['pop', 'rock', 'jazz', 'classical']\n",
    "x = Music.copy()\n",
    "print(x)"
   ]
  },
  {
   "cell_type": "markdown",
   "id": "013a29c4-0f2f-4677-b28a-d3a5d432c694",
   "metadata": {},
   "source": [
    "**Python List count() Method - Returns the number of elements with the specified value**"
   ]
  },
  {
   "cell_type": "code",
   "execution_count": 33,
   "id": "f3545057-b21c-4704-870d-080c496677fe",
   "metadata": {},
   "outputs": [
    {
     "name": "stdout",
     "output_type": "stream",
     "text": [
      "english = 1\n"
     ]
    }
   ],
   "source": [
    "launguage = ['hindi', 'marathi', 'english']\n",
    "x = launguage.count(\"english\")\n",
    "print(f'english = {x}')"
   ]
  },
  {
   "cell_type": "markdown",
   "id": "ddf7776c-7db8-4990-9639-13db9924c6e7",
   "metadata": {},
   "source": [
    "**Python List extend() Method - Add the elements of a list (or any iterable), to the end of the current list**\n",
    "\r\n"
   ]
  },
  {
   "cell_type": "code",
   "execution_count": 39,
   "id": "a17a23fb-f7a0-4252-a7d9-83cebfcc2b9d",
   "metadata": {},
   "outputs": [
    {
     "name": "stdout",
     "output_type": "stream",
     "text": [
      "['shivani', 'sita', 'radha', 'pink', 'purple', 'blue']\n"
     ]
    }
   ],
   "source": [
    "Girls = ['shivani', 'sita', 'radha']\n",
    "colour = ['pink', 'purple', 'blue']\n",
    "Girls.extend(colour)\n",
    "print(Girls)"
   ]
  },
  {
   "cell_type": "markdown",
   "id": "6e9ecaea-f732-40c1-9728-6750cfc7e64f",
   "metadata": {},
   "source": [
    "**Python List index() Method - Returns the index of the first element with the specified value**"
   ]
  },
  {
   "cell_type": "code",
   "execution_count": 45,
   "id": "c76903e6-d0c9-42f8-a8f5-b6903f7ab2db",
   "metadata": {},
   "outputs": [
    {
     "name": "stdout",
     "output_type": "stream",
     "text": [
      "carrot = 1\n"
     ]
    }
   ],
   "source": [
    "veg = ['raddish', 'carrot', 'bell peper']\n",
    "x = veg.index(\"carrot\")\n",
    "print(f'carrot = {x}')"
   ]
  },
  {
   "cell_type": "markdown",
   "id": "4e524c55-97ae-4a90-a7f6-19e56679a37e",
   "metadata": {},
   "source": [
    "**Python List insert() Method - Adds an element at the specified position**"
   ]
  },
  {
   "cell_type": "code",
   "execution_count": 47,
   "id": "9c472774-08b2-4faa-bbf3-fe26d033e23f",
   "metadata": {},
   "outputs": [
    {
     "name": "stdout",
     "output_type": "stream",
     "text": [
      "['realme', 'apple', 'xiaomi', 'redmi']\n"
     ]
    }
   ],
   "source": [
    "mobile = ['realme', 'apple', 'redmi']\n",
    "mobile.insert(2, \"xiaomi\")\n",
    "print(mobile)"
   ]
  },
  {
   "cell_type": "markdown",
   "id": "e2f35832-3a0f-45ce-b4e5-52386d04aeeb",
   "metadata": {},
   "source": [
    "**Python List pop() Method - Removes the element at the specified position**"
   ]
  },
  {
   "cell_type": "code",
   "execution_count": null,
   "id": "36bfe6fd-b3b2-4daa-b193-7a76b3d9ab9a",
   "metadata": {},
   "outputs": [],
   "source": [
    "company = ['infosys', 'deloit', 'accenture']\n",
    "company.pop(1)\n",
    "print(company)"
   ]
  },
  {
   "cell_type": "markdown",
   "id": "ec29b35e-dbdd-4dce-bdef-8ba7c351699c",
   "metadata": {},
   "source": [
    "**Python List remove() Method - Removes the first item with the specified value**"
   ]
  },
  {
   "cell_type": "code",
   "execution_count": 51,
   "id": "bcbc1c8c-76b1-48eb-9f5b-a11a14ff2f42",
   "metadata": {},
   "outputs": [
    {
     "name": "stdout",
     "output_type": "stream",
     "text": [
      "['Data', 'bussiness']\n"
     ]
    }
   ],
   "source": [
    "Analyst = ['Data', 'bussiness', 'finance']\n",
    "Analyst.remove(\"finance\")\n",
    "print(Analyst)"
   ]
  },
  {
   "cell_type": "markdown",
   "id": "ee91bf7b-8718-4216-ac6d-b28c960aa7d5",
   "metadata": {},
   "source": [
    "**Python List reverse() Method -  Reverses the order of the list**\r\n"
   ]
  },
  {
   "cell_type": "code",
   "execution_count": 53,
   "id": "ae7a9345-ed71-4ba2-8dc9-142601fc0444",
   "metadata": {},
   "outputs": [
    {
     "name": "stdout",
     "output_type": "stream",
     "text": [
      "['copper', 'platinum', 'gold']\n"
     ]
    }
   ],
   "source": [
    "Elements = ['gold', 'platinum', 'copper']\n",
    "Elements.reverse()\n",
    "print(Elements)"
   ]
  },
  {
   "cell_type": "markdown",
   "id": "a97d6466-477f-4b62-8e5d-e79624493572",
   "metadata": {},
   "source": [
    "**Python List sort() Method - Sorts the list**"
   ]
  },
  {
   "cell_type": "code",
   "execution_count": 55,
   "id": "266a2473-ca05-442c-9ccc-f623d5c012c1",
   "metadata": {},
   "outputs": [
    {
     "name": "stdout",
     "output_type": "stream",
     "text": [
      "['BMW', 'Ford', 'Mercedes', 'Volvo']\n"
     ]
    }
   ],
   "source": [
    "cars = ['Ford', 'BMW', 'Volvo', 'Mercedes']\n",
    "cars.sort()\n",
    "print(cars)"
   ]
  }
 ],
 "metadata": {
  "kernelspec": {
   "display_name": "Python 3 (ipykernel)",
   "language": "python",
   "name": "python3"
  },
  "language_info": {
   "codemirror_mode": {
    "name": "ipython",
    "version": 3
   },
   "file_extension": ".py",
   "mimetype": "text/x-python",
   "name": "python",
   "nbconvert_exporter": "python",
   "pygments_lexer": "ipython3",
   "version": "3.12.4"
  }
 },
 "nbformat": 4,
 "nbformat_minor": 5
}
